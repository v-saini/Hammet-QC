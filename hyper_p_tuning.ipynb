{
  "nbformat": 4,
  "nbformat_minor": 0,
  "metadata": {
    "colab": {
      "provenance": []
    },
    "kernelspec": {
      "name": "python3",
      "display_name": "Python 3"
    },
    "language_info": {
      "name": "python"
    }
  },
  "cells": [
    {
      "cell_type": "code",
      "source": [
        "!pip install keras-tuner --upgrade"
      ],
      "metadata": {
        "id": "XFdgR-zU2x_l"
      },
      "execution_count": null,
      "outputs": []
    },
    {
      "cell_type": "code",
      "execution_count": null,
      "metadata": {
        "id": "_nuvbjBuufdn"
      },
      "outputs": [],
      "source": [
        "# Importing Libraries\n",
        "import pandas as pd\n",
        "import numpy as np\n",
        "import seaborn as sns\n",
        "import matplotlib.pyplot as plt\n",
        "from matplotlib.offsetbox import AnchoredText\n",
        "import matplotlib.colors as colors\n",
        "from mpl_toolkits import mplot3d\n",
        "from math import sqrt\n",
        "import warnings\n",
        "import time\n",
        "\n",
        "from sklearn.metrics import mean_squared_error,r2_score,mean_absolute_error\n",
        "from sklearn.model_selection import train_test_split,KFold,cross_val_score,GridSearchCV\n",
        "from sklearn.preprocessing import StandardScaler, OneHotEncoder,LabelEncoder, MinMaxScaler\n",
        "\n",
        "\n",
        "from sklearn.linear_model import LinearRegression\n",
        "from sklearn.ensemble import RandomForestRegressor,AdaBoostRegressor,ExtraTreesRegressor,BaggingRegressor\n",
        "from sklearn.tree import DecisionTreeRegressor\n",
        "from sklearn.neighbors import KNeighborsRegressor\n",
        "from sklearn.cross_decomposition import PLSRegression\n",
        "from sklearn.decomposition import PCA\n",
        "from sklearn.manifold import TSNE\n",
        "from sklearn.svm import SVR\n",
        "from sklearn.neighbors import KNeighborsRegressor\n",
        "from sklearn.model_selection import GridSearchCV\n",
        "\n",
        "import tensorflow as tf\n",
        "import keras\n",
        "from keras import layers\n",
        "from keras.models import Sequential\n",
        "from keras.layers import Dense\n",
        "from keras.models import load_model\n",
        "from tensorflow.keras.callbacks import EarlyStopping\n",
        "\n",
        "import pickle\n",
        "import os\n",
        "import random\n"
      ]
    },
    {
      "cell_type": "code",
      "source": [
        "seed = 115\n",
        "os.environ['PYTHONHASHSEED'] = str(seed)\n",
        "random.seed(seed)\n",
        "np.random.seed(seed)\n",
        "tf.random.set_seed(seed)\n",
        "\n",
        "# import torch\n",
        "# torch.manual_seed(seed)"
      ],
      "metadata": {
        "id": "o380k0njuycA"
      },
      "execution_count": null,
      "outputs": []
    },
    {
      "cell_type": "code",
      "source": [
        "# To print losses\n",
        "def plots():\n",
        "    f, ax = plt.subplots(1,1)\n",
        "    actual_test=np.array(scaler.inverse_transform(testY).reshape(-1,1))\n",
        "    predicted_test=np.array(scaler.inverse_transform(model.predict(testX).reshape(-1,1)))\n",
        "\n",
        "    actual=np.array(scaler.inverse_transform(np.array(trainY).reshape(-1,1)))\n",
        "    predicted=np.array(scaler.inverse_transform(model.predict(np.array(trainX)).reshape(-1,1)))\n",
        "\n",
        "    plt.rcParams[\"figure.figsize\"] = (6,6)\n",
        "    plt.rcParams['savefig.dpi'] = 300\n",
        "    plt.rcParams[\"savefig.format\"] = 'tiff'\n",
        "\n",
        "    sns.set(style='whitegrid')\n",
        "    sns.set_context(\"paper\", font_scale=1.2)\n",
        "\n",
        "    plt.scatter(actual_test,predicted_test, color='purple', label='Test', linewidths=1, edgecolors='black', s=75)\n",
        "    sns.regplot(x=actual,y=predicted, color='orangered', label='Train', scatter_kws={'s':40, 'alpha':0.5, 'edgecolor':'black'})\n",
        "    print(\"R square (R^2) for train:                 %f\" % r2_score(actual,predicted))\n",
        "    print(\"Mean absolute error (MAE):      %f\" % mean_absolute_error(actual_test,predicted_test))\n",
        "    print(\"Mean squared error (MSE):       %f\" % mean_squared_error(actual_test,predicted_test))\n",
        "    print(\"Root mean squared error (RMSE): %f\" % sqrt(mean_squared_error(actual_test,predicted_test)))\n",
        "    print(\"R square (R^2):                 %f\" % r2_score(actual_test,predicted_test))\n",
        "\n",
        "\n",
        "    plt.xlabel('Actual')\n",
        "    plt.ylabel('Predicted')\n",
        "    #plt.suptitle(\"Actual Vs Predicted\")\n",
        "    anchored_text = AnchoredText(\"R\\u00b2 Score_train  \"+str(round(r2_score(actual,predicted),3))+'\\n'\"R\\u00b2 Score_test  \"+str(round(r2_score(actual_test,predicted_test),3)), loc=2,prop=dict(size=8))\n",
        "    # anchored_text = AnchoredText(\"R\\u00b2 Score =  \"+str(round(r2_score(actual_test,predicted_test),3)), loc=2,prop=dict(size=15))\n",
        "    ax.add_artist(anchored_text)\n",
        "\n",
        "    plt.legend(loc = 9, prop={'size': 8}) #labels=[\"Test\",\"Train\"],\n",
        "    plt.tight_layout()\n",
        "    plt.savefig(str(model)[1:6], bbox_inches='tight')"
      ],
      "metadata": {
        "id": "MDaMN9EdvI3v"
      },
      "execution_count": null,
      "outputs": []
    },
    {
      "cell_type": "code",
      "source": [
        "df = pd.read_excel(\n",
        "    'final_data.xlsx'\n",
        ")"
      ],
      "metadata": {
        "id": "oq8-Hobf1phV"
      },
      "execution_count": null,
      "outputs": []
    },
    {
      "cell_type": "code",
      "source": [
        "with open('train_ids', 'rb') as f:\n",
        "    train_ids = pickle.load(f)\n",
        "\n",
        "Train = df[df.ID.isin(train_ids)]\n",
        "Test = df[~df.ID.isin(train_ids)]"
      ],
      "metadata": {
        "id": "HBaOdcjU1x_W"
      },
      "execution_count": null,
      "outputs": []
    },
    {
      "cell_type": "code",
      "source": [
        "# Combine Train and test for feature engineering\n",
        "DF_raw = pd.concat([Train,Test],ignore_index=True)\n",
        "DF_data = DF_raw.copy()"
      ],
      "metadata": {
        "id": "Q-Uq_TYB12m7"
      },
      "execution_count": null,
      "outputs": []
    },
    {
      "cell_type": "code",
      "source": [
        "# Removing Unwanted columns\n",
        "DF_data=DF_data.drop(['SMILES', 'ID', 'Type'],axis=1)\n",
        "DF_data"
      ],
      "metadata": {
        "id": "3R78VpqE1561"
      },
      "execution_count": null,
      "outputs": []
    },
    {
      "cell_type": "code",
      "source": [
        "\n",
        "# Scaling the whole DataFrame\n",
        "\n",
        "scaler = StandardScaler()\n",
        "scaled_DF = pd.DataFrame(scaler.fit_transform(DF_data.iloc[:,1:]))\n",
        "scaled_DF.columns = DF_data.iloc[:,1:].columns\n",
        "\n",
        "scaled_DF['Sigma'] = scaler.fit_transform(np.array(DF_data['Sigma']).reshape(-1,1))\n",
        "scaled_DF\n",
        "\n",
        "display(scaled_DF)"
      ],
      "metadata": {
        "id": "h0AexLzj18sk"
      },
      "execution_count": null,
      "outputs": []
    },
    {
      "cell_type": "code",
      "source": [
        "DF_target = scaled_DF[['Sigma']]\n",
        "scaled_DF.drop('Sigma',axis=1,inplace=True)\n",
        "\n",
        "# display(scaled_DF)\n",
        "# display(DF_target)"
      ],
      "metadata": {
        "id": "Hn178QE-1_V1"
      },
      "execution_count": null,
      "outputs": []
    },
    {
      "cell_type": "code",
      "source": [
        "trainX = scaled_DF[:len(Train)]\n",
        "testX = scaled_DF[len(Train):]\n",
        "\n",
        "trainY = DF_target[:len(Train)]\n",
        "testY = DF_target[len(Train):]"
      ],
      "metadata": {
        "id": "A7wlpj4S2Czc"
      },
      "execution_count": null,
      "outputs": []
    },
    {
      "cell_type": "code",
      "source": [
        "X_train, X_val, Y_train, Y_val = train_test_split(\n",
        "    trainX, trainY,\n",
        "    test_size=0.1,\n",
        "    random_state=5\n",
        ")\n",
        "\n",
        "print(\"Training Data Shape:\", X_train.shape, Y_train.shape)\n",
        "print(\"Validation Data Shape:\", X_val.shape, Y_val.shape)"
      ],
      "metadata": {
        "id": "sfyX0HMV2FRG"
      },
      "execution_count": null,
      "outputs": []
    },
    {
      "cell_type": "code",
      "source": [
        "import keras_tuner as kt\n",
        "from tensorflow import keras\n",
        "from tensorflow.keras import layers, Sequential\n",
        "import numpy as np\n",
        "\n",
        "# Define the learning rate scheduler\n",
        "def scheduler(epoch, lr):\n",
        "    if epoch < 160:\n",
        "        return lr\n",
        "    else:\n",
        "        return lr * np.exp(-0.1)\n",
        "\n",
        "callback = keras.callbacks.LearningRateScheduler(scheduler)\n",
        "\n",
        "# Define the model builder for Keras Tuner\n",
        "def model_builder(hp):\n",
        "    init = keras.initializers.RandomNormal()\n",
        "    model = Sequential()\n",
        "\n",
        "    # Input layer\n",
        "    model.add(layers.Dense(\n",
        "        units=hp.Int('units_input', min_value=32, max_value=128, step=32),\n",
        "        activation='relu',\n",
        "        kernel_initializer=init,\n",
        "        input_dim=scaled_DF.shape[1]\n",
        "    ))\n",
        "    model.add(layers.Dropout(hp.Float('dropout_input', min_value=0.1, max_value=0.5, step=0.1)))\n",
        "\n",
        "    # Hidden layers\n",
        "    for i in range(hp.Int('num_hidden_layers', 1, 3)):\n",
        "        model.add(layers.Dense(\n",
        "            units=hp.Int(f'units_hidden_{i}', min_value=64, max_value=256, step=64),\n",
        "            activation='relu',\n",
        "            kernel_initializer=init\n",
        "        ))\n",
        "        model.add(layers.Dropout(hp.Float(f'dropout_hidden_{i}', min_value=0.1, max_value=0.5, step=0.1)))\n",
        "\n",
        "    # Output layer\n",
        "    model.add(layers.Dense(1, kernel_initializer=init, activation='linear'))\n",
        "\n",
        "    # Optimizer and learning rate\n",
        "    learning_rate = hp.Choice('learning_rate', values=[1e-2, 1e-3, 1e-4])\n",
        "    optimizer = keras.optimizers.Adam(learning_rate=learning_rate)\n",
        "\n",
        "    model.compile(optimizer=optimizer, loss='mse')\n",
        "    return model\n",
        "\n",
        "# Initialize the tuner\n",
        "tuner = kt.Hyperband(\n",
        "    model_builder,\n",
        "    objective='val_loss',\n",
        "    max_epochs=50,\n",
        "    factor=3,\n",
        "    directory='my_dir',\n",
        "    project_name='tuning_neural_network'\n",
        ")\n",
        "\n",
        "# Search for the best hyperparameters\n",
        "tuner.search(\n",
        "    X_train, Y_train,\n",
        "    epochs=50,\n",
        "    validation_data=(X_val, Y_val),\n",
        "    callbacks=[callback]\n",
        ")\n",
        "\n",
        "# Get the best hyperparameters\n",
        "best_hps = tuner.get_best_hyperparameters(num_trials=1)[0]\n",
        "\n",
        "# Build and train the best model\n",
        "best_model = tuner.hypermodel.build(best_hps)\n",
        "history = best_model.fit(\n",
        "    X_train, Y_train,\n",
        "    epochs=200,\n",
        "    batch_size=32,\n",
        "    validation_data=(X_val, Y_val),\n",
        "    callbacks=[callback],\n",
        "    verbose=1\n",
        ")\n",
        "\n",
        "# Print the optimal hyperparameters\n",
        "print(\"Optimal Hyperparameters:\")\n",
        "for param, value in best_hps.values.items():\n",
        "    print(f\"{param}: {value}\")"
      ],
      "metadata": {
        "id": "3lEh-F0yvEKg"
      },
      "execution_count": null,
      "outputs": []
    },
    {
      "cell_type": "code",
      "source": [
        "# Learning Rate Scheduler\n",
        "def scheduler(epoch, lr):\n",
        "  if epoch < 160:\n",
        "    return lr\n",
        "  else:\n",
        "    return lr * np.exp(-0.1)\n",
        "\n",
        "callback = keras.callbacks.LearningRateScheduler(scheduler)\n",
        "\n",
        "# Neural Network\n",
        "def Neural_network():\n",
        "    # Initialize weights with a random normal initializer\n",
        "    init = keras.initializers.RandomNormal()\n",
        "    model = Sequential()\n",
        "\n",
        "    # Input Layer\n",
        "    model.add(layers.Dense(\n",
        "        128,\n",
        "        activation='relu',\n",
        "        kernel_initializer=init,\n",
        "        input_dim=scaled_DF.shape[1]\n",
        "    ))\n",
        "    model.add(layers.Dropout(0.1))  # 40% dropout as per optimal parameters\n",
        "\n",
        "    # Hidden Layer\n",
        "    model.add(layers.Dense(\n",
        "        64,\n",
        "        activation='relu',\n",
        "        kernel_initializer=init\n",
        "    ))\n",
        "    model.add(layers.Dropout(0.1))  # 30% dropout as per optimal parameters\n",
        "    model.add(layers.Dense(\n",
        "            64,\n",
        "            activation='relu',\n",
        "            kernel_initializer=init\n",
        "        ))\n",
        "    model.add(layers.Dropout(0.3))\n",
        "\n",
        "    # Output Layer\n",
        "    model.add(layers.Dense(\n",
        "        1,\n",
        "        kernel_initializer=init,\n",
        "        activation='linear'  # Linear activation for regression\n",
        "    ))\n",
        "\n",
        "    # Optimizer\n",
        "    optimize = tf.keras.optimizers.Adam(learning_rate=0.001)  # Optimal learning rate\n",
        "\n",
        "    # Compile the model\n",
        "    model.compile(\n",
        "        optimizer=optimize,\n",
        "        loss='mse'  # Mean Squared Error for regression tasks\n",
        "    )\n",
        "    return model\n",
        "\n",
        "# Training Function\n",
        "def training_model(X_train, Y_train, model, X_val, Y_val):\n",
        "    # Include callbacks: LearningRateScheduler and optional EarlyStopping\n",
        "    early_stopping = tf.keras.callbacks.EarlyStopping(\n",
        "        monitor='val_loss',\n",
        "        patience=30,\n",
        "        min_delta=0.001,\n",
        "        restore_best_weights=True\n",
        "    )\n",
        "\n",
        "    history = model.fit(\n",
        "        X_train, Y_train,\n",
        "        epochs=200,\n",
        "        batch_size=32,\n",
        "        validation_data=(X_val, Y_val),  # Add validation data\n",
        "        verbose=1,  # Set verbose to 1 for training logs\n",
        "        callbacks=[callback, early_stopping]  # Add callbacks\n",
        "    )\n",
        "    return history\n"
      ],
      "metadata": {
        "id": "yAaNgZHI9ZQm"
      },
      "execution_count": null,
      "outputs": []
    },
    {
      "cell_type": "code",
      "source": [
        "model = Neural_network()\n",
        "# Define Callbacks\n",
        "\n",
        "history = training_model(X_train, Y_train, model, X_val, Y_val)"
      ],
      "metadata": {
        "id": "Qq3PnZeG902q"
      },
      "execution_count": null,
      "outputs": []
    },
    {
      "cell_type": "code",
      "source": [
        "plots()"
      ],
      "metadata": {
        "id": "5dYQH_vK94yK"
      },
      "execution_count": null,
      "outputs": []
    },
    {
      "cell_type": "code",
      "source": [
        "# model.save('nn_tuned.keras')"
      ],
      "metadata": {
        "id": "eOar2SgZ_qD5"
      },
      "execution_count": null,
      "outputs": []
    },
    {
      "cell_type": "code",
      "source": [
        "model = keras.models.load_model('nn_tuned.keras')"
      ],
      "metadata": {
        "id": "m36wg72MGMGV"
      },
      "execution_count": null,
      "outputs": []
    },
    {
      "cell_type": "code",
      "source": [
        "plots()"
      ],
      "metadata": {
        "id": "8Buaaym7GWq1"
      },
      "execution_count": null,
      "outputs": []
    },
    {
      "cell_type": "code",
      "source": [
        "model.summary()"
      ],
      "metadata": {
        "id": "Rp5Gex4vGXeV"
      },
      "execution_count": null,
      "outputs": []
    },
    {
      "cell_type": "code",
      "source": [
        "pip install pydot graphviz"
      ],
      "metadata": {
        "id": "DLlieP3hG3LV"
      },
      "execution_count": null,
      "outputs": []
    },
    {
      "cell_type": "code",
      "source": [
        "from tensorflow.keras.utils import plot_model\n",
        "plot_model(model, to_file=\"model_architecture.png\", show_shapes=True, show_layer_names=True)"
      ],
      "metadata": {
        "id": "Bax65mK5Hlzk"
      },
      "execution_count": null,
      "outputs": []
    },
    {
      "cell_type": "code",
      "source": [],
      "metadata": {
        "id": "j1EDbKKZHpFk"
      },
      "execution_count": null,
      "outputs": []
    }
  ]
}